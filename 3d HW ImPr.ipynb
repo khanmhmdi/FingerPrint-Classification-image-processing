{
 "cells": [
  {
   "cell_type": "code",
   "execution_count": 11,
   "id": "082b7a77-60f3-4e3c-8be9-f3e3cee2a8bc",
   "metadata": {},
   "outputs": [],
   "source": [
    "import pandas as pd \n",
    "import numpy as np\n",
    "import matplotlib.pyplot as plt\n",
    "import seaborn as sns\n",
    "\n",
    "import cv2\n",
    "import os\n",
    "import glob\n"
   ]
  },
  {
   "cell_type": "markdown",
   "id": "c0f945aa-62c4-4352-9c1a-98872466d50f",
   "metadata": {},
   "source": [
    "# Load the images"
   ]
  },
  {
   "cell_type": "code",
   "execution_count": 8,
   "id": "2987ce54-7ad4-4b69-a79c-1cae9f52e46b",
   "metadata": {
    "tags": []
   },
   "outputs": [],
   "source": [
    "PATH = \"/home/mkhanmhmdi/Desktop/6TH Term/Image Processing/3d HW/2nd Q/NISTSpecialDatabase4GrayScaleImagesofFIGS/sd04/png_txt\"\n",
    "\n",
    "imgs = glob.glob(PATH + '/**/*.png', recursive=True)\n",
    "txts = glob.glob(PATH + '/**/*.txt', recursive=True)\n"
   ]
  },
  {
   "cell_type": "code",
   "execution_count": 9,
   "id": "5cfb2a19-8eaf-45ad-9534-05bfe1210a99",
   "metadata": {},
   "outputs": [
    {
     "data": {
      "text/plain": [
       "4000"
      ]
     },
     "execution_count": 9,
     "metadata": {},
     "output_type": "execute_result"
    }
   ],
   "source": [
    "len(txts)"
   ]
  },
  {
   "cell_type": "code",
   "execution_count": 10,
   "id": "900c8d5e-04a3-44c9-ab64-6eb98fa3753c",
   "metadata": {},
   "outputs": [
    {
     "data": {
      "text/plain": [
       "4000"
      ]
     },
     "execution_count": 10,
     "metadata": {},
     "output_type": "execute_result"
    }
   ],
   "source": [
    "len(imgs)"
   ]
  },
  {
   "cell_type": "markdown",
   "id": "31870655-4956-412a-a212-092d0bcca03f",
   "metadata": {},
   "source": [
    "# Binarize the images"
   ]
  },
  {
   "cell_type": "code",
   "execution_count": null,
   "id": "b4dd7f23-269b-4578-adb5-44811b45314d",
   "metadata": {
    "tags": []
   },
   "outputs": [],
   "source": [
    "\n",
    "def binarize_image(image, threshold):\n",
    "    _, binary_image = cv2.threshold(image, threshold, 255, cv2.THRESH_BINARY)\n",
    "    return binary_image\n",
    "\n",
    "b_img = []\n",
    "for i in imgs:\n",
    "    gray_image = cv2.imread(i, 0)\n",
    "    binary_image = binarize_image(gray_image, 100)\n",
    "    b_img.append(binary_image)\n",
    "    plt.imshow(binary_image, cmap='gray')\n",
    "    plt.show()"
   ]
  },
  {
   "cell_type": "code",
   "execution_count": 17,
   "id": "6e3cb298-af72-451b-860a-d6e1601de271",
   "metadata": {},
   "outputs": [],
   "source": [
    "def apply_morphology(binary_image):\n",
    "    kernel = cv2.getStructuringElement(cv2.MORPH_RECT, (3, 3))\n",
    "    eroded_image = cv2.erode(binary_image, kernel, iterations=1)\n",
    "    dilated_image = cv2.dilate(eroded_image, kernel, iterations=1)\n",
    "    return dilated_image\n",
    "\n",
    "m_img = []\n",
    "for i in b_img:\n",
    "    processed_image = apply_morphology(i)\n",
    "    m_img.append(processed_image)"
   ]
  },
  {
   "cell_type": "code",
   "execution_count": null,
   "id": "5beabff1-9443-4c23-b03e-9b5376080e47",
   "metadata": {},
   "outputs": [],
   "source": [
    "def extract_edges(image):\n",
    "    edges = cv2.Canny(image, 100, 200)  # Adjust the thresholds as needed\n",
    "    return edges\n",
    "\n",
    "edges_image = extract_edges(processed_image)"
   ]
  }
 ],
 "metadata": {
  "kernelspec": {
   "display_name": "Python 3 (ipykernel)",
   "language": "python",
   "name": "python3"
  },
  "language_info": {
   "codemirror_mode": {
    "name": "ipython",
    "version": 3
   },
   "file_extension": ".py",
   "mimetype": "text/x-python",
   "name": "python",
   "nbconvert_exporter": "python",
   "pygments_lexer": "ipython3",
   "version": "3.9.13"
  }
 },
 "nbformat": 4,
 "nbformat_minor": 5
}
